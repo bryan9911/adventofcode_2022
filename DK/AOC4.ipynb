{
 "cells": [
  {
   "cell_type": "code",
   "execution_count": 91,
   "id": "632ea33e",
   "metadata": {
    "scrolled": false
   },
   "outputs": [
    {
     "name": "stdout",
     "output_type": "stream",
     "text": [
      "433\n",
      "852\n"
     ]
    }
   ],
   "source": [
    "import re\n",
    "with open(\"C:/Users/ckehd/Documents/GitHub/adventofcode_2022/DK/4.txt\",\"r\") as f:\n",
    "    data=f.readlines()\n",
    "    9-10,11-12\n",
    "data_len=len(data)\n",
    "section=Section()\n",
    "for i in data:\n",
    "    sp=re.split('[,-]',i)\n",
    "    section.test(sp)\n",
    "    section.test2(sp)\n",
    "\n",
    "print(section.print_cnt())\n",
    "print(section.print_ov())"
   ]
  },
  {
   "cell_type": "code",
   "execution_count": 90,
   "id": "27dbfe08",
   "metadata": {},
   "outputs": [],
   "source": [
    "class Section:\n",
    "    def __init__(self):\n",
    "        self.cnt=0\n",
    "        self.ov_cnt=0\n",
    "        \n",
    "    def test(self,data):\n",
    "        data=list(map(int,data))\n",
    "        if data[0]<=data[2] and data[1]>=data[3]:\n",
    "            self.cnt+=1\n",
    "        elif data[2]<=data[0] and data[3]>=data[1]:\n",
    "            self.cnt+=1\n",
    "            \n",
    "    def test2(self,data):\n",
    "        data=list(map(int,data))\n",
    "        if data[2]>data[1] or data[0]>data[3]:\n",
    "            return 0\n",
    "        else:\n",
    "            self.ov_cnt+=1\n",
    "            \n",
    "    def print_cnt(self):\n",
    "        return self.cnt\n",
    "    \n",
    "    def print_ov(self):\n",
    "        return self.ov_cnt"
   ]
  }
 ],
 "metadata": {
  "kernelspec": {
   "display_name": "Python 3 (ipykernel)",
   "language": "python",
   "name": "python3"
  },
  "language_info": {
   "codemirror_mode": {
    "name": "ipython",
    "version": 3
   },
   "file_extension": ".py",
   "mimetype": "text/x-python",
   "name": "python",
   "nbconvert_exporter": "python",
   "pygments_lexer": "ipython3",
   "version": "3.9.13"
  }
 },
 "nbformat": 4,
 "nbformat_minor": 5
}

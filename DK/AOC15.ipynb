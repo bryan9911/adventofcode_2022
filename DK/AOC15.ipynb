{
 "cells": [
  {
   "cell_type": "code",
   "execution_count": 1,
   "id": "7e6cbd34",
   "metadata": {},
   "outputs": [
    {
     "name": "stdout",
     "output_type": "stream",
     "text": [
      "5127797\n",
      "[-309541, 3129624, 3129626, 4356534] 2636507\n"
     ]
    }
   ],
   "source": [
    "from functools import reduce\n",
    "import operator\n",
    "\n",
    "with open(\"C:/Users/ckehd/Documents/GitHub/adventofcode_2022/DK/15.txt\",\"r\") as f:\n",
    "    data=f.readlines()\n",
    "\n",
    "ans=[]\n",
    "part2=[]\n",
    "part2_ans=[[]for i in range(4000001)]\n",
    "bicon=[]\n",
    "for i in data:\n",
    "    dummy=i.split(' ')\n",
    "    data=list(map(int,[dummy[2][2:-1],dummy[3][2:-1],dummy[8][2:-1],dummy[9][2:]]))\n",
    "    d_sum=abs(data[0]-data[2])+abs(data[1]-data[3])\n",
    "    part2.append([data[1]+d_sum,data[1]-d_sum,data[0],d_sum])\n",
    "    \n",
    "    if data[1]-d_sum<=2000000 and data[1]>=2000000:\n",
    "        amount=d_sum-(data[1]-2000000)\n",
    "        ans.append([data[0]-amount,data[0]+amount])\n",
    "\n",
    "    elif data[1]+d_sum>=2000000 and data[1]<=2000000:\n",
    "        amount=d_sum-(2000000-data[1])\n",
    "        ans.append([data[0]-amount,data[0]+amount])\n",
    "        \n",
    "    if data[3]==2000000 and data[2] not in bicon:\n",
    "            bicon.append(data[2])\n",
    "\n",
    "def combine(data):\n",
    "    data.sort()\n",
    "    for i in range(len(data)-1):\n",
    "        if data[i+1][0]<=data[i][1]<=data[i+1][1]:\n",
    "            data[i][1]='.'\n",
    "            data[i+1][0]='.'\n",
    "        elif data[i+1][1]<=data[i][1]:\n",
    "            data[i+1][1]=data[i][1]\n",
    "            data[i][1]='.'\n",
    "            data[i+1][0]='.'\n",
    "    return data\n",
    "\n",
    "for i in range(4000001):\n",
    "    for j in part2:\n",
    "        if j[1]<=i<=j[0]:\n",
    "            dummy=abs(abs(i-(j[0]+j[1])//2)-j[3])\n",
    "            part2_ans[i].append([j[2]-dummy,j[2]+dummy])\n",
    "\n",
    "            # 파트1\n",
    "ans=0\n",
    "com=list(reduce(operator.add,combine(ans)))\n",
    "remove_set=['.']\n",
    "com=[i for i in com if i not in remove_set]\n",
    "for i in range(0,len(com),2):\n",
    "    ans+=com[i+1]-com[i]+1\n",
    "ans-=len(bicon)\n",
    "print(ans)\n",
    "\n",
    "            # 파트2\n",
    "t=0\n",
    "ans_cnt=0\n",
    "for i in part2_ans:\n",
    "    part2.append(list(reduce(operator.add,combine(i))))\n",
    "\n",
    "for i in range(len(part2)):\n",
    "    part2[i]=[j for j in part2[i] if j not in remove_set]\n",
    "    \n",
    "for i in part2:\n",
    "    for j in range(0,len(i)-2,2):\n",
    "        if i[0]==1 or i[len(i)-1]==399999:\n",
    "            print(i,t)\n",
    "            ans_cnt=1\n",
    "            break\n",
    "        elif i[j+2]-i[j+1]==2:\n",
    "            print(i,t)\n",
    "            ans_cnt=1\n",
    "            break\n",
    "    if ans_cnt==1:\n",
    "        break\n",
    "    t+=1\n",
    "\n"
   ]
  },
  {
   "cell_type": "code",
   "execution_count": null,
   "id": "3e6bd297",
   "metadata": {},
   "outputs": [],
   "source": []
  }
 ],
 "metadata": {
  "kernelspec": {
   "display_name": "Python 3 (ipykernel)",
   "language": "python",
   "name": "python3"
  },
  "language_info": {
   "codemirror_mode": {
    "name": "ipython",
    "version": 3
   },
   "file_extension": ".py",
   "mimetype": "text/x-python",
   "name": "python",
   "nbconvert_exporter": "python",
   "pygments_lexer": "ipython3",
   "version": "3.9.13"
  }
 },
 "nbformat": 4,
 "nbformat_minor": 5
}

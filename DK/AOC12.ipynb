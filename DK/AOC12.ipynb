{
 "cells": [
  {
   "cell_type": "code",
   "execution_count": 117,
   "id": "424177dd",
   "metadata": {},
   "outputs": [],
   "source": [
    "from collections import deque\n",
    "\n",
    "class Map:\n",
    "    def __init__(self):\n",
    "        with open(\"C:/Users/ckehd/Documents/GitHub/adventofcode_2022/DK/12.txt\",\"r\") as f:\n",
    "            self.data=f.read().splitlines()\n",
    "        self.max=10000\n",
    "        self.min=10000\n",
    "        lst1=list(self.data[20])\n",
    "        lst1[0]='a'\n",
    "        lst1[77]='z'\n",
    "        self.data[20]=''.join(lst1)\n",
    "        self.dirdic=[[1,0],[0,1],[-1,0],[0,-1]]\n",
    "    \n",
    "\n",
    "    def move(self,i,j,cnt):\n",
    "        self.visit_map=[]\n",
    "        self.queue=[]\n",
    "        self.visit_map.append([i,j])\n",
    "        self.queue.append([i,j,0])\n",
    "        while self.queue:\n",
    "            x,y,cnt=self.queue.pop(0)\n",
    "            if self.check_E(x,y,cnt):\n",
    "                if cnt<=self.max:\n",
    "                    self.max=cnt\n",
    "            elif self.data[x][y]=='a':\n",
    "                if cnt<=self.min:\n",
    "                    self.min=cnt\n",
    "                    \n",
    "            for dir in self.dirdic:\n",
    "                if self.check_data(x+dir[0],y+dir[1],ord(self.data[x][y])) and [x+dir[0],y+dir[1]] not in self.visit_map:\n",
    "                    self.visit_map.append([x+dir[0],y+dir[1]])\n",
    "                    self.queue.append([x+dir[0],y+dir[1],cnt+1])\n",
    "            \n",
    "    \n",
    "    def check_E(self,i,j,cnt):\n",
    "        if i==20 and j==77:\n",
    "            print(i,j)\n",
    "            return True\n",
    "        \n",
    "    def check_data(self,i,j,dummy):\n",
    "        if not 0 <= j <= 100:\n",
    "            return False\n",
    "        elif not 0<= i <= 40:\n",
    "            return False\n",
    "        else:\n",
    "            #if ord(self.data[i][j])<=dummy+1:\n",
    "            #    return True\n",
    "            if ord(self.data[i][j])>=dummy-1:\n",
    "                return True\n",
    "            \n",
    "    def print_map(self):\n",
    "        return self.data[20][77]\n",
    "\n",
    "    def print_min(self):\n",
    "        return self.min\n",
    "    \n",
    "    def print_max(self):\n",
    "        return self.max"
   ]
  },
  {
   "cell_type": "code",
   "execution_count": 118,
   "id": "55611f8e",
   "metadata": {},
   "outputs": [
    {
     "name": "stdout",
     "output_type": "stream",
     "text": [
      "20 77\n",
      "0\n",
      "354\n"
     ]
    }
   ],
   "source": [
    "map=Map()\n",
    "\n",
    "#map.move(20,0,0)\n",
    "map.move(20,77,0)\n",
    "print(map.print_max())\n",
    "print(map.print_min())"
   ]
  },
  {
   "cell_type": "code",
   "execution_count": null,
   "id": "4f2ef6c4",
   "metadata": {},
   "outputs": [],
   "source": []
  }
 ],
 "metadata": {
  "kernelspec": {
   "display_name": "Python 3 (ipykernel)",
   "language": "python",
   "name": "python3"
  },
  "language_info": {
   "codemirror_mode": {
    "name": "ipython",
    "version": 3
   },
   "file_extension": ".py",
   "mimetype": "text/x-python",
   "name": "python",
   "nbconvert_exporter": "python",
   "pygments_lexer": "ipython3",
   "version": "3.9.13"
  }
 },
 "nbformat": 4,
 "nbformat_minor": 5
}

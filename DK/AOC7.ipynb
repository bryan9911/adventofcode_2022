{
 "cells": [
  {
   "cell_type": "code",
   "execution_count": 72,
   "id": "b243d876",
   "metadata": {
    "scrolled": false
   },
   "outputs": [
    {
     "name": "stdout",
     "output_type": "stream",
     "text": [
      "1723892\n",
      "8474158\n"
     ]
    }
   ],
   "source": [
    "with open(\"C:/Users/ckehd/Documents/GitHub/adventofcode_2022/DK/7.txt\",\"r\") as f:\n",
    "    data=f.readlines()\n",
    "\n",
    "directory=[]\n",
    "total_size=0\n",
    "disk_space=0\n",
    "\n",
    "for i in data:\n",
    "    out=i.split()\n",
    "    if out[0]=='$':\n",
    "        if out[1]=='cd':                 #디렉토리 입장,퇴장\n",
    "            if out[2]=='..':\n",
    "                current_size=directory.pop()\n",
    "                if current_size<100000:\n",
    "                    total_size+=current_size\n",
    "                if 6552309<current_size<min:\n",
    "                    min=current_size\n",
    "                directory.append(directory.pop()+current_size)\n",
    "            else:\n",
    "                directory.append(0)\n",
    "    else:                                #디렉토리 내부 확인\n",
    "        if out[0]=='dir':\n",
    "            continue\n",
    "        else:\n",
    "            dummy=directory.pop()\n",
    "            directory.append(dummy+int(out[0]))\n",
    "    \n",
    "print(total_size)\n",
    "print(min)"
   ]
  },
  {
   "cell_type": "code",
   "execution_count": null,
   "id": "53554d9d",
   "metadata": {},
   "outputs": [],
   "source": [
    "29001698 너무높음\n",
    "21618835\n",
    "22488591 너무 큼\n",
    "8474158"
   ]
  }
 ],
 "metadata": {
  "kernelspec": {
   "display_name": "Python 3 (ipykernel)",
   "language": "python",
   "name": "python3"
  },
  "language_info": {
   "codemirror_mode": {
    "name": "ipython",
    "version": 3
   },
   "file_extension": ".py",
   "mimetype": "text/x-python",
   "name": "python",
   "nbconvert_exporter": "python",
   "pygments_lexer": "ipython3",
   "version": "3.9.13"
  }
 },
 "nbformat": 4,
 "nbformat_minor": 5
}

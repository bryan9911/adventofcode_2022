{
 "cells": [
  {
   "cell_type": "code",
   "execution_count": 192,
   "id": "0a2a0f1c",
   "metadata": {
    "scrolled": true
   },
   "outputs": [
    {
     "name": "stdout",
     "output_type": "stream",
     "text": [
      "7826\n",
      "2577\n"
     ]
    }
   ],
   "source": [
    "with open(\"C:/Users/ckehd/Documents/GitHub/adventofcode_2022/DK/3.txt\",\"r\") as f:\n",
    "    data=f.readlines()\n",
    "    \n",
    "sack=SACK()\n",
    "for i in data:\n",
    "    sack.divide_sack(i)\n",
    "print(sack.print_point())\n",
    "      \n",
    "      \n",
    "for i in range(int(len(data)/3)):\n",
    "    sack.divide_sack2(data[3*i],data[3*i+1],data[3*i+2])\n",
    "print(sack.print_point2())\n",
    "\n",
    "#print(sack.print_fst_sack())\n",
    "#print(sack.print_snd_sack())"
   ]
  },
  {
   "cell_type": "code",
   "execution_count": 190,
   "id": "56ce1860",
   "metadata": {},
   "outputs": [],
   "source": [
    "class SACK:\n",
    "    def __init__(self):\n",
    "        self.point1=0\n",
    "        self.point2=0\n",
    "        \n",
    "    def check_cap(self,item):\n",
    "        if item > 91:\n",
    "            return True\n",
    "        else:\n",
    "            return False\n",
    "        \n",
    "    def divide_sack(self,i):\n",
    "        self.fst_com=[0 for i in range(53)]\n",
    "        self.snd_com=[0 for i in range(53)]\n",
    "        item_len=len(i)-1\n",
    "        for j in range(item_len):\n",
    "            idx=ord(i[j])\n",
    "            if self.check_cap(idx):         #소문자인 경우\n",
    "                if j < (item_len / 2):\n",
    "                    self.fst_com[idx-96]=1\n",
    "                else:\n",
    "                    self.snd_com[idx-96]=1\n",
    "            else:                           #대문자인 경우\n",
    "                if j < (item_len / 2):\n",
    "                    self.fst_com[idx-38]=1\n",
    "                else:\n",
    "                    self.snd_com[idx-38]=1\n",
    "        #print(self.find_same_item(self.fst_com,self.snd_com))\n",
    "        #print(i, item_len)\n",
    "        self.point1+=self.find_same_item(self.fst_com,self.snd_com)\n",
    "        \n",
    "        \n",
    "    def divide_sack2(self,i,j,k):\n",
    "        self.group=[0 for i in range(53)]\n",
    "        item_len=len(i)-1\n",
    "        %3==0\n",
    "        for x in range(item_len):\n",
    "            idx=ord(i[x])\n",
    "            if self.check_cap(idx):         #소문자인 경우\n",
    "                self.group[idx-96]=1\n",
    "            else:                           #대문자인 경우\n",
    "                self.group[idx-38]=1\n",
    "        %3==1\n",
    "        for x in range(int(len(j)-1)):\n",
    "            idx=ord(j[x])\n",
    "            if self.check_cap(idx):         #소문자인 경우\n",
    "                if self.group[idx-96]==1:\n",
    "                    self.group[idx-96]=2\n",
    "            else:                           #대문자인 경우\n",
    "                if self.group[idx-38]==1:\n",
    "                    self.group[idx-38]=2\n",
    "\n",
    "        for x in range(int(len(k)-1)):\n",
    "            idx=ord(k[x])\n",
    "            if self.check_cap(idx):         #소문자인 경우\n",
    "                if self.group[idx-96]==2:\n",
    "                    self.point2+=idx-96\n",
    "                    break\n",
    "            else:                           #대문자인 경우\n",
    "                if self.group[idx-38]==2:\n",
    "                    self.point2+=idx-38\n",
    "                    break\n",
    "\n",
    "    def print_point2(self):\n",
    "        return self.point2\n",
    "    \n",
    "    def print_fst_sack(self):\n",
    "        return self.fst_com\n",
    "    \n",
    "    def print_snd_sack(self):\n",
    "        return self.snd_com\n",
    "              \n",
    "    def find_same_item(self,fst,snd):\n",
    "        for i in range(len(fst)):\n",
    "            if fst[i] == 1:\n",
    "                if snd[i]==1:\n",
    "                    return i\n",
    "                \n",
    "    def print_point(self):\n",
    "        return self.point1"
   ]
  },
  {
   "cell_type": "code",
   "execution_count": null,
   "id": "d2f8bbe0",
   "metadata": {},
   "outputs": [],
   "source": []
  },
  {
   "cell_type": "code",
   "execution_count": null,
   "id": "96128a63",
   "metadata": {},
   "outputs": [],
   "source": []
  },
  {
   "cell_type": "code",
   "execution_count": null,
   "id": "5ec91e10",
   "metadata": {},
   "outputs": [],
   "source": []
  },
  {
   "cell_type": "code",
   "execution_count": null,
   "id": "8dc2f0d9",
   "metadata": {},
   "outputs": [],
   "source": []
  },
  {
   "cell_type": "code",
   "execution_count": null,
   "id": "be505674",
   "metadata": {},
   "outputs": [],
   "source": []
  },
  {
   "cell_type": "code",
   "execution_count": null,
   "id": "c85da5ae",
   "metadata": {},
   "outputs": [],
   "source": []
  },
  {
   "cell_type": "code",
   "execution_count": null,
   "id": "eb5b46c5",
   "metadata": {},
   "outputs": [],
   "source": []
  },
  {
   "cell_type": "code",
   "execution_count": null,
   "id": "50e29f4a",
   "metadata": {},
   "outputs": [],
   "source": []
  },
  {
   "cell_type": "code",
   "execution_count": null,
   "id": "c9948197",
   "metadata": {},
   "outputs": [],
   "source": []
  }
 ],
 "metadata": {
  "kernelspec": {
   "display_name": "Python 3 (ipykernel)",
   "language": "python",
   "name": "python3"
  },
  "language_info": {
   "codemirror_mode": {
    "name": "ipython",
    "version": 3
   },
   "file_extension": ".py",
   "mimetype": "text/x-python",
   "name": "python",
   "nbconvert_exporter": "python",
   "pygments_lexer": "ipython3",
   "version": "3.9.13"
  }
 },
 "nbformat": 4,
 "nbformat_minor": 5
}

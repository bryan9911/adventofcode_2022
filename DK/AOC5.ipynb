{
 "cells": [
  {
   "cell_type": "code",
   "execution_count": 11,
   "id": "941a1766",
   "metadata": {},
   "outputs": [
    {
     "name": "stdout",
     "output_type": "stream",
     "text": [
      "[['T', 'H', 'N'], ['B', 'J', 'L', 'S', 'P', 'R', 'Z', 'S', 'S', 'D', 'B', 'D', 'R', 'M', 'L'], ['Z', 'T', 'F', 'J', 'C'], ['B', 'N', 'R', 'V', 'W', 'Q', 'M', 'N', 'L', 'F', 'P', 'D'], ['C'], ['G', 'H', 'M', 'S', 'F', 'Q', 'L'], ['Z', 'G', 'T', 'V'], ['T', 'G', 'M'], ['C', 'P', 'P', 'F', 'M', 'Q']]\n",
      "['N', 'L', 'C', 'D', 'C', 'L', 'V', 'M', 'Q']\n"
     ]
    }
   ],
   "source": [
    "import re\n",
    "with open(\"C:/Users/ckehd/Documents/GitHub/adventofcode_2022/DK/5.txt\",\"r\") as f:\n",
    "    data=f.readlines()\n",
    "#print(data[7][9])\n",
    "\n",
    "\n",
    "#crate=[[0]*8 for _ in range(9)]\n",
    "boat=Boat()\n",
    "for i in range(9):    #i=0~8\n",
    "    first=[]\n",
    "    for j in range(8):      #j=0~7\n",
    "        if \"A\"<=data[7-j][i*4+1]<=\"Z\":\n",
    "            first.append(data[7-j][i*4+1])\n",
    "    boat.init_data(first)\n",
    "\n",
    "for i in range(10,len(data)):\n",
    "    work=[]\n",
    "    process=data[i].split()\n",
    "    for j in process:\n",
    "        if str.isdigit(j):\n",
    "            work.append(j)\n",
    "    #boat.move(work)\n",
    "    boat.move2(work)\n",
    "\n",
    "print(boat.print_crate())\n",
    "print(boat.crate_pop())"
   ]
  },
  {
   "cell_type": "code",
   "execution_count": 10,
   "id": "e7c89200",
   "metadata": {},
   "outputs": [],
   "source": [
    "class Boat:\n",
    "    def __init__(self):\n",
    "        self.crate=[]\n",
    "        \n",
    "    def init_data(self,data):\n",
    "        self.crate.append(data)\n",
    "    \n",
    "    def move(self,work):\n",
    "        for num in range(int(work[0])):\n",
    "            data=self.crate[int(work[1])-1].pop()\n",
    "            self.crate[int(work[2])-1].append(data)\n",
    "    def move2(self,work):\n",
    "        self.dummy=[]\n",
    "        for i in range(int(work[0])):\n",
    "            data=self.crate[int(work[1])-1].pop()\n",
    "            self.dummy.append(data)\n",
    "        for i in range(int(work[0])):\n",
    "            ip=self.dummy.pop()\n",
    "            self.crate[int(work[2])-1].append(ip)\n",
    "\n",
    "    def crate_pop(self):\n",
    "        self.last_data=[]\n",
    "        for i in range(len(self.crate)):\n",
    "            data=self.crate[i].pop()\n",
    "            self.last_data.append(data)\n",
    "        return self.last_data\n",
    "    \n",
    "    def print_crate(self):\n",
    "        return self.crate"
   ]
  },
  {
   "cell_type": "code",
   "execution_count": null,
   "id": "42e15151",
   "metadata": {},
   "outputs": [],
   "source": []
  }
 ],
 "metadata": {
  "kernelspec": {
   "display_name": "Python 3 (ipykernel)",
   "language": "python",
   "name": "python3"
  },
  "language_info": {
   "codemirror_mode": {
    "name": "ipython",
    "version": 3
   },
   "file_extension": ".py",
   "mimetype": "text/x-python",
   "name": "python",
   "nbconvert_exporter": "python",
   "pygments_lexer": "ipython3",
   "version": "3.9.13"
  }
 },
 "nbformat": 4,
 "nbformat_minor": 5
}

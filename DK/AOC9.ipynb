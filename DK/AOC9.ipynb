{
 "cells": [
  {
   "cell_type": "code",
   "execution_count": 229,
   "id": "74db848f",
   "metadata": {},
   "outputs": [],
   "source": [
    "class Grid:\n",
    "    def __init__(self):\n",
    "        self.visit_map=[[0,0]]\n",
    "        self.tail_map=[[0,0]for row in range(9)]\n",
    "        self.tail9_visit_map=[[0,0]]\n",
    "        self.head_pos=[0,0]\n",
    "        self.tail_pos=[0,0]\n",
    "        \n",
    "    def move_head(self,dir,deg):\n",
    "        for i in range(int(deg)):\n",
    "            self.head_pos[0]+=dir[0]\n",
    "            self.head_pos[1]+=dir[1]\n",
    "\n",
    "            if self.check_length()==2.0:           #tail이 움직여야 하는 경우\n",
    "                self.tail_pos[0]+=dir[0]\n",
    "                self.tail_pos[1]+=dir[1]\n",
    "                \n",
    "            elif self.check_length()==2.2:\n",
    "                self.tail_pos[0]=self.head_pos[0]-dir[0]\n",
    "                self.tail_pos[1]=self.head_pos[1]-dir[1]\n",
    "                \n",
    "            else:\n",
    "                continue\n",
    "            self.tail_map[0]=self.tail_pos\n",
    "            self.check_tail_length()\n",
    "            self.check_grid(self.tail_pos[0],self.tail_pos[1])\n",
    "\n",
    "\n",
    "    def check_length(self):\n",
    "        x=((self.head_pos[0]-self.tail_pos[0])**2+(self.head_pos[1]-self.tail_pos[1])**2)**(1/2)\n",
    "        return round(x,1)\n",
    "    \n",
    "    def check_tail_length(self):\n",
    "        for i in range(8):\n",
    "            x=[self.tail_map[i][0]-self.tail_map[i+1][0],self.tail_map[i][1]-self.tail_map[i+1][1]]\n",
    "            if abs(x[0])==2 or abs(x[1])==2:\n",
    "                x=self.return_move(x)\n",
    "                self.tail_map[i+1][0]+=x[0]\n",
    "                self.tail_map[i+1][1]+=x[1]\n",
    "        self.check_tail9_visit(self.tail_map[8][0],self.tail_map[8][1]) \n",
    "    \n",
    "    def return_move(self,x):\n",
    "        for i in range(2):\n",
    "            if abs(x[i])==2:\n",
    "                x[i]//=2\n",
    "        return x\n",
    "            \n",
    "    def check_grid(self,i,j):\n",
    "        if [i,j] not in self.visit_map:\n",
    "            self.visit_map.append([i,j])\n",
    "            \n",
    "    def check_tail9_visit(self,i,j):\n",
    "        if [i,j] not in self.tail9_visit_map:\n",
    "            self.tail9_visit_map.append([i,j])\n",
    "            \n",
    "    def print_visit(self):\n",
    "        return len(self.visit_map)\n",
    "    \n",
    "    def print_tail9_visit(self):\n",
    "        return len(self.tail9_visit_map)"
   ]
  },
  {
   "cell_type": "code",
   "execution_count": 230,
   "id": "7809d79c",
   "metadata": {},
   "outputs": [
    {
     "name": "stdout",
     "output_type": "stream",
     "text": [
      "6332\n",
      "2511\n"
     ]
    }
   ],
   "source": [
    "with open(\"C:/Users/ckehd/Documents/GitHub/adventofcode_2022/DK/9.txt\",\"r\") as f:\n",
    "    data=f.readlines()\n",
    "    \n",
    "direction={'U':[1,0],'D':[-1,0],'R':[0,1],'L':[0,-1]}\n",
    "grid=Grid()\n",
    "\n",
    "for i in data:\n",
    "    out=i.split()\n",
    "    grid.move_head(direction[out[0]],out[1])\n",
    "print(grid.print_visit())\n",
    "print(grid.print_tail9_visit())"
   ]
  }
 ],
 "metadata": {
  "kernelspec": {
   "display_name": "Python 3 (ipykernel)",
   "language": "python",
   "name": "python3"
  },
  "language_info": {
   "codemirror_mode": {
    "name": "ipython",
    "version": 3
   },
   "file_extension": ".py",
   "mimetype": "text/x-python",
   "name": "python",
   "nbconvert_exporter": "python",
   "pygments_lexer": "ipython3",
   "version": "3.9.13"
  }
 },
 "nbformat": 4,
 "nbformat_minor": 5
}

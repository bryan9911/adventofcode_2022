{
 "cells": [
  {
   "cell_type": "code",
   "execution_count": 171,
   "id": "ae3e7b8e",
   "metadata": {},
   "outputs": [],
   "source": [
    "class Register:\n",
    "    def __init__(self):\n",
    "        self.signal_strengths=0\n",
    "        self.cycle=0\n",
    "        self.check_list=[20,60,100,140,180,220]\n",
    "        self.x=1\n",
    "        self.CRT=[[]for i in range(6)]\n",
    "        self.sprite=[]\n",
    "        \n",
    "    def program(self, cnt):\n",
    "        self.cycle+=1\n",
    "        self.check_cycle()\n",
    "        self.cycle+=1\n",
    "        self.check_cycle()\n",
    "        self.x+=int(cnt)\n",
    "        self.change_stripe(int(cnt))\n",
    "    \n",
    "    def change_stripe(self,cnt):\n",
    "        if cnt>=0:\n",
    "            for i in range(cnt):\n",
    "                self.sprite.insert(0,self.sprite.pop())\n",
    "        else:\n",
    "            for i in range(abs(cnt)):\n",
    "                self.sprite.append(self.sprite.pop(0))\n",
    "            \n",
    "    def check_cycle(self):\n",
    "        self.draw_CRT()\n",
    "        if self.cycle in self.check_list:\n",
    "            #print(self.x, self.cycle)\n",
    "            self.signal_strengths+=self.x*self.cycle\n",
    "            \n",
    "    def noop(self):\n",
    "        self.cycle+=1\n",
    "        self.check_cycle()\n",
    "        \n",
    "    def reset_sprite(self):\n",
    "        self.sprite.clear()\n",
    "        for i in range(41):\n",
    "            if i>2:\n",
    "                self.sprite.append('.')\n",
    "            else:\n",
    "                self.sprite.append('#')\n",
    "    \n",
    "    def draw_CRT(self):\n",
    "        index=self.cycle-1\n",
    "        i=int(index/40)\n",
    "        j=int(index%40)\n",
    "        if i<6:\n",
    "            self.CRT[i].append(self.sprite[j])\n",
    "    \n",
    "    def print_CRT(self):\n",
    "        for i in self.CRT:\n",
    "            print(*i)\n",
    "    \n",
    "    def print_signal(self):\n",
    "        return self.signal_strengths"
   ]
  },
  {
   "cell_type": "code",
   "execution_count": 172,
   "id": "3c09f030",
   "metadata": {},
   "outputs": [
    {
     "name": "stdout",
     "output_type": "stream",
     "text": [
      "17180\n",
      "# # # . . # # # # . # . . # . # # # . . # # # . . # . . . . # . . # . # # # . .\n",
      "# . . # . # . . . . # . . # . # . . # . # . . # . # . . . . # . . # . # . . # .\n",
      "# . . # . # # # . . # # # # . # . . # . # . . # . # . . . . # . . # . # # # . .\n",
      "# # # . . # . . . . # . . # . # # # . . # # # . . # . . . . # . . # . # . . # #\n",
      "# . # . . # . . . . # . . # . # . . . . # . # . . # . . . . # . . # . # . . # #\n",
      "# . . # . # # # # . # . . # . # . . . . # . . # . # # # # . . # # . . # # # . .\n"
     ]
    }
   ],
   "source": [
    "with open(\"C:/Users/ckehd/Documents/GitHub/adventofcode_2022/DK/10.txt\",\"r\") as f:\n",
    "    data=f.readlines()\n",
    "    \n",
    "reg=Register()\n",
    "reg.reset_sprite()\n",
    "for i in data:\n",
    "    out=i.split()\n",
    "    if out[0]=='noop':\n",
    "        reg.noop()\n",
    "    else:\n",
    "        reg.program(out[1])\n",
    "    \n",
    "print(reg.print_signal())\n",
    "reg.print_CRT()"
   ]
  }
 ],
 "metadata": {
  "kernelspec": {
   "display_name": "Python 3 (ipykernel)",
   "language": "python",
   "name": "python3"
  },
  "language_info": {
   "codemirror_mode": {
    "name": "ipython",
    "version": 3
   },
   "file_extension": ".py",
   "mimetype": "text/x-python",
   "name": "python",
   "nbconvert_exporter": "python",
   "pygments_lexer": "ipython3",
   "version": "3.9.13"
  }
 },
 "nbformat": 4,
 "nbformat_minor": 5
}

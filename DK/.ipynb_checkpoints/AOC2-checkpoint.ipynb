{
 "cells": [
  {
   "cell_type": "code",
   "execution_count": 71,
   "id": "18566d5b",
   "metadata": {},
   "outputs": [
    {
     "name": "stdout",
     "output_type": "stream",
     "text": [
      "10816\n"
     ]
    }
   ],
   "source": [
    "import numpy as np\n",
    "\n",
    "\n",
    "rpc=RPC()\n",
    "for i in range(2500):\n",
    "    rpc.fight(i)\n",
    "    \n",
    "print(rpc.print_point())\n"
   ]
  },
  {
   "cell_type": "code",
   "execution_count": 70,
   "id": "d0c9f656",
   "metadata": {},
   "outputs": [],
   "source": [
    "class RPC:\n",
    "    #X,A 바위1 Y,B보 Z2,C 가위3\n",
    "    def __init__(self):\n",
    "        f=open(\"C:\\\\Users\\\\ckehd\\\\Documents\\\\GitHub\\\\adventofcode_2022\\\\DK\\\\2.txt\",'r')\n",
    "        self.point=0\n",
    "        self.data=f.read()\n",
    "    \n",
    "    def print_data(self,i,j):\n",
    "        return data[i][j]\n",
    "    \n",
    "    def fight(self,lines):\n",
    "        if data[lines][2]==\"X\":\n",
    "            self.point+=1\n",
    "            if data[lines][0]==\"C\":\n",
    "                self.point+=6\n",
    "            elif data[lines][0]==\"A\":\n",
    "                self.point+=3\n",
    "            \n",
    "        elif data[lines][2]==\"Y\":\n",
    "            self.point+=2\n",
    "            if data[lines][0]==\"A\":\n",
    "                self.point+=6\n",
    "            elif data[lines][0]==\"B\":\n",
    "                self.point+=3\n",
    "            \n",
    "        #if data[lines][3]==\"Z\":\n",
    "        else:\n",
    "            self.point+=3\n",
    "            if data[lines][0]==\"B\":\n",
    "                self.point+=6\n",
    "            elif data[lines][0]==\"C\":\n",
    "                self.point+=3\n",
    "                \n",
    "    def print_point(self):\n",
    "        return self.point"
   ]
  },
  {
   "cell_type": "code",
   "execution_count": null,
   "id": "1f08188c",
   "metadata": {},
   "outputs": [],
   "source": []
  }
 ],
 "metadata": {
  "kernelspec": {
   "display_name": "Python 3 (ipykernel)",
   "language": "python",
   "name": "python3"
  },
  "language_info": {
   "codemirror_mode": {
    "name": "ipython",
    "version": 3
   },
   "file_extension": ".py",
   "mimetype": "text/x-python",
   "name": "python",
   "nbconvert_exporter": "python",
   "pygments_lexer": "ipython3",
   "version": "3.9.13"
  }
 },
 "nbformat": 4,
 "nbformat_minor": 5
}

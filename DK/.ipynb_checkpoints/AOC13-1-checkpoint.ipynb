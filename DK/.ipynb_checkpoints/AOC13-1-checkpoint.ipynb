{
 "cells": [
  {
   "cell_type": "code",
   "execution_count": 83,
   "id": "00db1a0c",
   "metadata": {},
   "outputs": [
    {
     "name": "stdout",
     "output_type": "stream",
     "text": [
      "[11311]\n",
      "\n",
      "[11511]\n",
      "\n",
      "[[1][234]]\n",
      "\n",
      "[[1]4]\n",
      "\n",
      "[9]\n",
      "\n",
      "[[876]]\n",
      "\n",
      "[[44]44]\n",
      "\n",
      "[[44]444]\n",
      "\n",
      "[7777]\n",
      "\n",
      "[777]\n",
      "\n",
      "[]\n",
      "\n",
      "[3]\n",
      "\n",
      "[[[]]]\n",
      "\n",
      "[[]]\n",
      "\n",
      "[1[2[3[4[567]]]]89]\n",
      "\n",
      "[1[2[3[4[560]]]]89]\n",
      "\n"
     ]
    }
   ],
   "source": [
    "import re\n",
    "with open(\"C:/Users/ckehd/Documents/GitHub/adventofcode_2022/DK/13-1.txt\",\"r\") as f:\n",
    "    data=f.readlines()\n",
    "    \n",
    "for i in range(0,len(data),3):\n",
    "    data[i]=''.join(data[i].split(','))\n",
    "    data[i+1]=''.join(data[i+1].split(','))\n",
    "    compare(data[i],data[i+1])\n"
   ]
  },
  {
   "cell_type": "code",
   "execution_count": 82,
   "id": "092736fb",
   "metadata": {},
   "outputs": [],
   "source": [
    "def compare(x,y):\n",
    "    print(x)\n",
    "    print(y)"
   ]
  },
  {
   "cell_type": "code",
   "execution_count": null,
   "id": "ea1c9a72",
   "metadata": {},
   "outputs": [],
   "source": []
  }
 ],
 "metadata": {
  "kernelspec": {
   "display_name": "Python 3 (ipykernel)",
   "language": "python",
   "name": "python3"
  },
  "language_info": {
   "codemirror_mode": {
    "name": "ipython",
    "version": 3
   },
   "file_extension": ".py",
   "mimetype": "text/x-python",
   "name": "python",
   "nbconvert_exporter": "python",
   "pygments_lexer": "ipython3",
   "version": "3.9.13"
  }
 },
 "nbformat": 4,
 "nbformat_minor": 5
}

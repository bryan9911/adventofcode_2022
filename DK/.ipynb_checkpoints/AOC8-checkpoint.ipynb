{
 "cells": [
  {
   "cell_type": "code",
   "execution_count": 33,
   "id": "17b58067",
   "metadata": {},
   "outputs": [
    {
     "name": "stdout",
     "output_type": "stream",
     "text": [
      "5 5\n",
      "5 4\n",
      "5 3\n",
      "5 2\n",
      "5 1\n",
      "4 5\n",
      "4 4\n",
      "4 3\n",
      "4 2\n",
      "4 1\n",
      "3 5\n",
      "3 4\n",
      "3 3\n",
      "3 2\n",
      "3 1\n",
      "2 5\n",
      "2 4\n",
      "2 3\n",
      "2 2\n",
      "2 1\n",
      "1 5\n",
      "1 4\n",
      "1 3\n",
      "1 2\n",
      "1 1\n",
      "392\n"
     ]
    }
   ],
   "source": [
    "#with open(\"C:/Users/ckehd/Documents/GitHub/adventofcode_2022/DK/8.txt\",\"r\") as f:\n",
    "#    data=f.readlines()\n",
    "with open(\"C:/Users/ckehd/OneDrive/문서/GitHub/adventofcode_2022/DK/8.txt\",\"r\") as f:\n",
    "    data=f.readlines()\n",
    "\n",
    "\n",
    "cnt=len(data)*4-4\n",
    "\n",
    "for i in range(len(data)):\n",
    "    if i==0 or i==99:\n",
    "        continue\n",
    "    for j in range(len(data[i])):\n",
    "        if j==0 or j==99:\n",
    "            continue\n",
    "        #if check(i,j,data):\n",
    "            #cnt+=1\n",
    "check(5,5,data)\n",
    "print(cnt)\n"
   ]
  },
  {
   "cell_type": "code",
   "execution_count": 32,
   "id": "5d68c06c",
   "metadata": {},
   "outputs": [],
   "source": [
    "def check(i,j,data):\n",
    "    main=data[i][j]\n",
    "    for x in range(i,0,-1):\n",
    "        for y in range(j,0,-1):\n",
    "            print(x,y)\n",
    "            if data[x][y]>=main:\n",
    "                main=data[x][y]\n",
    "                #return 0\n",
    "    return 1"
   ]
  },
  {
   "cell_type": "code",
   "execution_count": 88,
   "id": "c5157e28",
   "metadata": {},
   "outputs": [],
   "source": [
    "class Tree:\n",
    "    def __init__(self):\n",
    "        with open(\"C:/Users/ckehd/OneDrive/문서/GitHub/adventofcode_2022/DK/8.txt\",\"r\") as f:\n",
    "            self.data=f.readlines()\n",
    "        \n",
    "    def check_hight(self,i,j):\n",
    "        mark=self.data[i][j]\n",
    "        all(mark > )\n",
    "        for x in range(i-1,-1,-1):\n",
    "            if mark>self.data[x][j]:\n",
    "                return 1\n",
    "        for x in range(i+1,len(self.data[1]),1):\n",
    "            if mark>self.data[x][j]:\n",
    "                return 1\n",
    "        for y in range(j-1,-1,-1):\n",
    "            if mark>self.data[i][y]:\n",
    "                return 1\n",
    "        for y in range(j+1,len(self.data[1]),1):\n",
    "            if mark>self.data[i][y]:\n",
    "                return 1\n",
    "            \n",
    "    def print(self):\n",
    "        return self.data"
   ]
  },
  {
   "cell_type": "code",
   "execution_count": 89,
   "id": "cddd898c",
   "metadata": {},
   "outputs": [
    {
     "name": "stdout",
     "output_type": "stream",
     "text": [
      "9801\n"
     ]
    }
   ],
   "source": [
    "tree=Tree()\n",
    "#print(tree.print())\n",
    "cnt=0\n",
    "for i in range(99):\n",
    "    for j in range(99):\n",
    "        if tree.check_hight(5,5):\n",
    "            cnt+=1\n",
    "print(cnt)\n",
    "#print(tree.print())"
   ]
  },
  {
   "cell_type": "code",
   "execution_count": 91,
   "id": "80b4e85d",
   "metadata": {},
   "outputs": [
    {
     "name": "stdout",
     "output_type": "stream",
     "text": [
      "False\n"
     ]
    }
   ],
   "source": [
    "data=[1,2,3,6]\n",
    "index=5\n",
    "print(all(index > x for x in data))"
   ]
  },
  {
   "cell_type": "code",
   "execution_count": null,
   "id": "7fa23321",
   "metadata": {},
   "outputs": [],
   "source": []
  }
 ],
 "metadata": {
  "kernelspec": {
   "display_name": "Python 3 (ipykernel)",
   "language": "python",
   "name": "python3"
  },
  "language_info": {
   "codemirror_mode": {
    "name": "ipython",
    "version": 3
   },
   "file_extension": ".py",
   "mimetype": "text/x-python",
   "name": "python",
   "nbconvert_exporter": "python",
   "pygments_lexer": "ipython3",
   "version": "3.9.13"
  }
 },
 "nbformat": 4,
 "nbformat_minor": 5
}

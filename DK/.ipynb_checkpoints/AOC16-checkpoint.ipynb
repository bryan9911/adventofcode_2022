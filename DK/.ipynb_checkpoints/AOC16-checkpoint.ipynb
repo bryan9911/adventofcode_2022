{
 "cells": [
  {
   "cell_type": "code",
   "execution_count": 66,
   "id": "5f126807",
   "metadata": {},
   "outputs": [
    {
     "name": "stdout",
     "output_type": "stream",
     "text": [
      "[['AA', '0', ['DD,II,BB']], ['BB', '13', ['CC,AA']], ['CC', '2', ['DD,BB']], ['DD', '20', ['CC,AA,EE']], ['EE', '3', ['FF,DD']], ['FF', '0', ['EE,GG']], ['GG', '0', ['FF,HH']], ['HH', '22', ['GG']], ['II', '0', ['AA,JJ']], ['JJ', '21', ['II']]]\n",
      "0\n",
      "1\n",
      "2\n",
      "3\n",
      "4\n",
      "5\n",
      "6\n",
      "7\n",
      "8\n",
      "9\n"
     ]
    }
   ],
   "source": [
    "with open(\"C:/Users/ckehd/Documents/GitHub/adventofcode_2022/DK/16-1.txt\",\"r\") as f:\n",
    "    data=f.readlines()\n",
    "\n",
    "v_m=[]   #valves_map\n",
    "v_name=[]\n",
    "for i in data:\n",
    "    i=i.split()\n",
    "    v_m.append([i[1],i[4][5:-1],''.join(i[9:]).split()])\n",
    "    v_name.append(i[1])\n",
    "\n",
    "\n",
    "dict={string:i for i,string in enumerate(v_name)}\n",
    "\n",
    "valves=Valves(v_m,dict)\n",
    "valves.make_graph()"
   ]
  },
  {
   "cell_type": "code",
   "execution_count": 65,
   "id": "55178226",
   "metadata": {},
   "outputs": [],
   "source": [
    "class Valves:\n",
    "    def __init__(self,data,dict):\n",
    "        self.valves_map=data\n",
    "        self.dict=dict\n",
    "        self.size=len(dict)\n",
    "        self.graph=[[0 for _ in range(self.size)] for _ in range(self.size)]\n",
    "        \n",
    "    def make_graph(self):\n",
    "        print(self.valves_map)\n",
    "        for i in self.valves_map:\n",
    "            print(self.dict[i[0]])"
   ]
  },
  {
   "cell_type": "code",
   "execution_count": null,
   "id": "4aa3fffa",
   "metadata": {},
   "outputs": [],
   "source": []
  }
 ],
 "metadata": {
  "kernelspec": {
   "display_name": "Python 3 (ipykernel)",
   "language": "python",
   "name": "python3"
  },
  "language_info": {
   "codemirror_mode": {
    "name": "ipython",
    "version": 3
   },
   "file_extension": ".py",
   "mimetype": "text/x-python",
   "name": "python",
   "nbconvert_exporter": "python",
   "pygments_lexer": "ipython3",
   "version": "3.9.13"
  }
 },
 "nbformat": 4,
 "nbformat_minor": 5
}

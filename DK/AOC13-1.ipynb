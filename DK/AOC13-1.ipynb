{
 "cells": [
  {
   "cell_type": "code",
   "execution_count": 124,
   "id": "00db1a0c",
   "metadata": {},
   "outputs": [
    {
     "name": "stdout",
     "output_type": "stream",
     "text": [
      "[\n",
      "1\n",
      ",\n",
      "1\n",
      "0\n",
      ",\n",
      "3\n",
      ",\n",
      "1\n",
      ",\n",
      "1\n",
      "]\n",
      "\n",
      "\n",
      "[1,10,3,1,1]\n",
      "\n"
     ]
    }
   ],
   "source": [
    "import re\n",
    "with open(\"C:/Users/ckehd/Documents/GitHub/adventofcode_2022/DK/13-1.txt\",\"r\") as f:\n",
    "    data=f.readline()\n",
    "    \n",
    "#for i in range(0,len(data),3):\n",
    "#     data[i]=data[i].replace('[','.').replace(']','.')\n",
    "#     data[i+1]=data[i+1].replace('[','.').replace(']','.')\n",
    "#    print(re.split('[,[]]',data[i]),re.split('[,[]]',data[i+1]))\n",
    "#print(change_data(data[0][1:]))\n",
    "for i in data:\n",
    "    print(i)\n",
    "print(data)\n",
    "def change_data(d):\n",
    "    #print(d)\n",
    "    arr=[]\n",
    "    for i in range(len(d)):\n",
    "        #print(i)\n",
    "        print(d[i])\n",
    "        if 48<=ord(d[i])<=57:\n",
    "            if 48<=ord(d[i+1])<=57:\n",
    "                arr.append(d[i]*10+d[i+1])\n",
    "                i+=1\n",
    "                print('oh')\n",
    "            else:\n",
    "                arr.append(i)\n",
    "        elif d[i]=='[' or d[i]==']':\n",
    "            return arr\n",
    "\n",
    "def compare(x,y):\n",
    "    print(x)\n",
    "    print(y)"
   ]
  },
  {
   "cell_type": "code",
   "execution_count": 82,
   "id": "092736fb",
   "metadata": {},
   "outputs": [],
   "source": []
  },
  {
   "cell_type": "code",
   "execution_count": null,
   "id": "ea1c9a72",
   "metadata": {},
   "outputs": [],
   "source": []
  }
 ],
 "metadata": {
  "kernelspec": {
   "display_name": "Python 3 (ipykernel)",
   "language": "python",
   "name": "python3"
  },
  "language_info": {
   "codemirror_mode": {
    "name": "ipython",
    "version": 3
   },
   "file_extension": ".py",
   "mimetype": "text/x-python",
   "name": "python",
   "nbconvert_exporter": "python",
   "pygments_lexer": "ipython3",
   "version": "3.9.13"
  }
 },
 "nbformat": 4,
 "nbformat_minor": 5
}

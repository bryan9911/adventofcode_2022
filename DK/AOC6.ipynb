{
 "cells": [
  {
   "cell_type": "code",
   "execution_count": 23,
   "id": "402ff226",
   "metadata": {
    "scrolled": true
   },
   "outputs": [
    {
     "name": "stdout",
     "output_type": "stream",
     "text": [
      "2122\n"
     ]
    }
   ],
   "source": [
    "from collections import deque\n",
    "with open(\"C:/Users/ckehd/OneDrive/문서/GitHub/adventofcode_2022/DK/6.txt\",\"r\") as f:\n",
    "    data=f.read()\n",
    "\n",
    "cnt=1\n",
    "deq=[]\n",
    "for i in data:\n",
    "    check=0\n",
    "    deq.append(i)\n",
    "    if cnt>13:\n",
    "        if check_deq(deq):\n",
    "            deq.pop(0)\n",
    "            cnt+=1\n",
    "            continue\n",
    "        else:\n",
    "            break\n",
    "    cnt+=1\n",
    "print(cnt)\n",
    "\n",
    "\n",
    "def check_deq(data):\n",
    "    dup = [x for i, x in enumerate(data) if x in data[:i]]\n",
    "    return len(dup)\n"
   ]
  },
  {
   "cell_type": "code",
   "execution_count": 12,
   "id": "111b2ba8",
   "metadata": {},
   "outputs": [
    {
     "name": "stdout",
     "output_type": "stream",
     "text": [
      "0\n"
     ]
    }
   ],
   "source": [
    "def check_deq(data):\n",
    "    dup = [x for i, x in enumerate(data) if x in data[:i]]\n",
    "    return len(dup)\n",
    "\n",
    "\n",
    "\n",
    "nums=['f','a','x','q']\n",
    "print(check_deq(nums))"
   ]
  }
 ],
 "metadata": {
  "kernelspec": {
   "display_name": "Python 3 (ipykernel)",
   "language": "python",
   "name": "python3"
  },
  "language_info": {
   "codemirror_mode": {
    "name": "ipython",
    "version": 3
   },
   "file_extension": ".py",
   "mimetype": "text/x-python",
   "name": "python",
   "nbconvert_exporter": "python",
   "pygments_lexer": "ipython3",
   "version": "3.9.13"
  }
 },
 "nbformat": 4,
 "nbformat_minor": 5
}

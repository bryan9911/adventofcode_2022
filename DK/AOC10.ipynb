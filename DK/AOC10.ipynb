{
 "cells": [
  {
   "cell_type": "code",
   "execution_count": 18,
   "id": "ae3e7b8e",
   "metadata": {},
   "outputs": [],
   "source": [
    "class Register:\n",
    "    def __init__(self):\n",
    "        self.signal_strengths=0\n",
    "        self.cycle=0\n",
    "        self.check_list=[20,60,100,140,180,220]\n",
    "        self.x=1\n",
    "        \n",
    "    def program(self, cnt):\n",
    "        self.cycle+=1\n",
    "        self.check_cycle(cnt)\n",
    "        self.cycle+=1\n",
    "        self.check_cycle(cnt)\n",
    "        self.x+=int(cnt)\n",
    "        \n",
    "    def check_cycle(self,cnt):\n",
    "        if self.cycle in self.check_list:\n",
    "            print(self.x, self.cycle, cnt)\n",
    "            self.signal_strengths+=self.x*self.cycle\n",
    "            \n",
    "    def noop(self):\n",
    "        self.cycle+=1\n",
    "        self.check_cycle(0)\n",
    "    \n",
    "    def print_signal(self):\n",
    "        return self.signal_strengths"
   ]
  },
  {
   "cell_type": "code",
   "execution_count": 19,
   "id": "3c09f030",
   "metadata": {},
   "outputs": [
    {
     "name": "stdout",
     "output_type": "stream",
     "text": [
      "10 20 10\n",
      "17 60 2\n",
      "21 100 -3\n",
      "39 140 -19\n",
      "21 180 2\n",
      "21 220 3\n",
      "17180\n"
     ]
    }
   ],
   "source": [
    "with open(\"C:/Users/ckehd/Documents/GitHub/adventofcode_2022/DK/10.txt\",\"r\") as f:\n",
    "    data=f.readlines()\n",
    "    \n",
    "reg=Register()\n",
    "for i in data:\n",
    "    out=i.split()\n",
    "    if out[0]=='noop':\n",
    "        reg.noop()\n",
    "    else:\n",
    "        reg.program(out[1])\n",
    "        \n",
    "print(reg.print_signal())"
   ]
  },
  {
   "cell_type": "code",
   "execution_count": null,
   "id": "fcdd23a2",
   "metadata": {},
   "outputs": [],
   "source": []
  }
 ],
 "metadata": {
  "kernelspec": {
   "display_name": "Python 3 (ipykernel)",
   "language": "python",
   "name": "python3"
  },
  "language_info": {
   "codemirror_mode": {
    "name": "ipython",
    "version": 3
   },
   "file_extension": ".py",
   "mimetype": "text/x-python",
   "name": "python",
   "nbconvert_exporter": "python",
   "pygments_lexer": "ipython3",
   "version": "3.9.13"
  }
 },
 "nbformat": 4,
 "nbformat_minor": 5
}

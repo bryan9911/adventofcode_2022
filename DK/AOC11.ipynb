{
 "cells": [
  {
   "cell_type": "code",
   "execution_count": 143,
   "id": "6babf578",
   "metadata": {},
   "outputs": [
    {
     "name": "stdout",
     "output_type": "stream",
     "text": [
      "[5, 2, 19, 7, 17, 13, 3, 11]\n",
      "30599555965\n"
     ]
    }
   ],
   "source": [
    "import math\n",
    "with open(\"C:/Users/ckehd/Documents/GitHub/adventofcode_2022/DK/11.txt\",\"r\") as f:\n",
    "    data=f.readlines()\n",
    "    \n",
    "monkey=Monkey()\n",
    "def search_data(data):\n",
    "    #print(data)\n",
    "    item=list(map(int,data[1][18:].split(', ')))\n",
    "    operator=data[2][23:].split()\n",
    "    test=int(data[3][21:])\n",
    "    tf=[]\n",
    "    tf.append(data[4][29])\n",
    "    tf.append(data[5][30])\n",
    "    return(item,operator,test,tf)\n",
    "    \n",
    "for i in range(0,len(data),7):\n",
    "    monkey.input_data(i,search_data(data[i:i+7]))\n",
    "    \n",
    "monkey.part2()\n",
    "for i in range(10000):\n",
    "    monkey.turn()\n",
    "print(monkey.print_max())"
   ]
  },
  {
   "cell_type": "code",
   "execution_count": 142,
   "id": "e048f0ee",
   "metadata": {},
   "outputs": [],
   "source": [
    "class Monkey:\n",
    "    def __init__(self):\n",
    "        self.max_arr=[0,0,0,0,0,0,0,0]\n",
    "        self.item=[]\n",
    "        self.operation=[]\n",
    "        self.test=[]\n",
    "        self.tf=[]\n",
    "        self.lcm=1\n",
    "        \n",
    "    def input_data(self,i,data):\n",
    "        self.item.append(data[0])\n",
    "        self.operation.append(data[1])\n",
    "        self.test.append(data[2])\n",
    "        self.tf.append(data[3])\n",
    "        \n",
    "    def turn(self):\n",
    "        for i in range(8):\n",
    "            self.calculate(i)\n",
    "            self.data_test(i)\n",
    "            \n",
    "    def calculate(self,i):\n",
    "        \n",
    "        for j in range(len(self.item[i])):\n",
    "            if self.operation[i][1]=='old':\n",
    "                self.item[i][j]=self.item[i][j]*self.item[i][j]\n",
    "            elif self.operation[i][0]=='+':\n",
    "                self.item[i][j]+=int(self.operation[i][1])\n",
    "            elif self.operation[i][0]=='*':\n",
    "                self.item[i][j]*=int(self.operation[i][1])\n",
    "                \n",
    "    def data_test(self,i):\n",
    "        self.max_arr[i]+=len(self.item[i])\n",
    "        for j in range(len(self.item[i])):\n",
    "            #self.item[i][j]//=3\n",
    "            self.item[i][j]%=self.lcm\n",
    "            if self.item[i][j]%self.test[i]==0:\n",
    "                self.item[int(self.tf[i][0])].append(self.item[i][j])\n",
    "            else:\n",
    "                self.item[int(self.tf[i][1])].append(self.item[i][j])\n",
    "        self.item[i].clear()\n",
    "    \n",
    "    def part2(self):\n",
    "        print(self.test)\n",
    "        for i in self.test:\n",
    "            self.lcm=math.lcm(self.lcm,i)\n",
    "            \n",
    "    def print_max(self):\n",
    "        self.max_arr.sort(reverse=True)\n",
    "        return self.max_arr[0]*self.max_arr[1]"
   ]
  }
 ],
 "metadata": {
  "kernelspec": {
   "display_name": "Python 3 (ipykernel)",
   "language": "python",
   "name": "python3"
  },
  "language_info": {
   "codemirror_mode": {
    "name": "ipython",
    "version": 3
   },
   "file_extension": ".py",
   "mimetype": "text/x-python",
   "name": "python",
   "nbconvert_exporter": "python",
   "pygments_lexer": "ipython3",
   "version": "3.9.13"
  }
 },
 "nbformat": 4,
 "nbformat_minor": 5
}
